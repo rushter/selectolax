{
 "cells": [
  {
   "cell_type": "code",
   "execution_count": 1,
   "metadata": {},
   "outputs": [],
   "source": [
    "from selectolax.parser import HTMLParser"
   ]
  },
  {
   "cell_type": "code",
   "execution_count": 3,
   "metadata": {
    "scrolled": true
   },
   "outputs": [],
   "source": [
    "html = \"\"\"\n",
    "<body>\n",
    "    <span id=\"vspan\"></span>\n",
    "    <h1>Welcome to selectolax tutorial</h1>\n",
    "    <div id=\"text\">\n",
    "        <p class='p3' style='display:none;'>Excepteur <i>sint</i> occaecat cupidatat non proident</p>\n",
    "        <p class='p3' vid>Lorem ipsum</p>\n",
    "    </div>\n",
    "    <div>\n",
    "        <p id='stext'>Lorem ipsum dolor sit amet, ea quo modus meliore platonem.</p>\n",
    "    </div>\n",
    "</body>\n",
    "\"\"\""
   ]
  },
  {
   "cell_type": "markdown",
   "metadata": {},
   "source": [
    "#### Select all p tags with class p3"
   ]
  },
  {
   "cell_type": "code",
   "execution_count": 4,
   "metadata": {
    "scrolled": true
   },
   "outputs": [
    {
     "name": "stdout",
     "output_type": "stream",
     "text": [
      "---------------------\n",
      "Node: <p class=\"p3\" style=\"display:none;\">Excepteur <i>sint</i> occaecat cupidatat non proident</p>\n",
      "attributes: {'class': 'p3', 'style': 'display:none;'}\n",
      "node text: Excepteur sint occaecat cupidatat non proident\n",
      "tag: p\n",
      "parent tag: div\n",
      "last child inside current node:  occaecat cupidatat non proident\n",
      "---------------------\n",
      "\n",
      "---------------------\n",
      "Node: <p class=\"p3\" vid=\"\">Lorem ipsum</p>\n",
      "attributes: {'class': 'p3', 'vid': None}\n",
      "node text: Lorem ipsum\n",
      "tag: p\n",
      "parent tag: div\n",
      "last child inside current node: Lorem ipsum\n",
      "---------------------\n",
      "\n"
     ]
    }
   ],
   "source": [
    "selector = \"p.p3\"\n",
    "\n",
    "for node in HTMLParser(html).css(selector):\n",
    "    print('---------------------')\n",
    "    print('Node: %s' % node.html)\n",
    "    print('attributes: %s' % node.attributes)\n",
    "    print('node text: %s' % node.text(deep=True, separator='', strip=False))\n",
    "    print('tag: %s' % node.tag)\n",
    "    print('parent tag: %s' % node.parent.tag)\n",
    "    if node.last_child:\n",
    "        print('last child inside current node: %s' % node.last_child.html)\n",
    "    print('---------------------\\n')"
   ]
  },
  {
   "cell_type": "markdown",
   "metadata": {},
   "source": [
    "#### Select first match"
   ]
  },
  {
   "cell_type": "code",
   "execution_count": 5,
   "metadata": {},
   "outputs": [
    {
     "name": "stdout",
     "output_type": "stream",
     "text": [
      "H1: Welcome to selectolax tutorial\n"
     ]
    }
   ],
   "source": [
    "print(\"H1: %s\" % HTMLParser(html).css_first('h1').text())"
   ]
  },
  {
   "cell_type": "markdown",
   "metadata": {},
   "source": [
    "#### Default return value if there is no matches"
   ]
  },
  {
   "cell_type": "code",
   "execution_count": 6,
   "metadata": {},
   "outputs": [
    {
     "name": "stdout",
     "output_type": "stream",
     "text": [
      "Title: not-found\n"
     ]
    }
   ],
   "source": [
    "print(\"Title: %s\" % HTMLParser(html).css_first('title', default='not-found'))"
   ]
  },
  {
   "cell_type": "markdown",
   "metadata": {},
   "source": [
    "#### Strictly one match\n",
    "\n",
    "If there multiple matches, you will get an error."
   ]
  },
  {
   "cell_type": "code",
   "execution_count": 7,
   "metadata": {},
   "outputs": [
    {
     "ename": "ValueError",
     "evalue": "Expected 1 match, but found 2 matches",
     "output_type": "error",
     "traceback": [
      "\u001b[0;31m---------------------------------------------------------------------------\u001b[0m",
      "\u001b[0;31mValueError\u001b[0m                                Traceback (most recent call last)",
      "\u001b[0;32m/var/folders/hz/kldp1y0d4tvd1x56cyg_b9mm0000gn/T/ipykernel_94350/4220316520.py\u001b[0m in \u001b[0;36m<module>\u001b[0;34m\u001b[0m\n\u001b[0;32m----> 1\u001b[0;31m \u001b[0mHTMLParser\u001b[0m\u001b[0;34m(\u001b[0m\u001b[0mhtml\u001b[0m\u001b[0;34m)\u001b[0m\u001b[0;34m.\u001b[0m\u001b[0mcss_first\u001b[0m\u001b[0;34m(\u001b[0m\u001b[0;34m\"p.p3\"\u001b[0m\u001b[0;34m,\u001b[0m \u001b[0mdefault\u001b[0m\u001b[0;34m=\u001b[0m\u001b[0;34m'not-found'\u001b[0m\u001b[0;34m,\u001b[0m \u001b[0mstrict\u001b[0m\u001b[0;34m=\u001b[0m\u001b[0;32mTrue\u001b[0m\u001b[0;34m)\u001b[0m\u001b[0;34m\u001b[0m\u001b[0;34m\u001b[0m\u001b[0m\n\u001b[0m",
      "\u001b[0;32m~/Projects/python/selectolax/selectolax/parser.pyx\u001b[0m in \u001b[0;36mselectolax.parser.HTMLParser.css_first\u001b[0;34m()\u001b[0m\n",
      "\u001b[0;32m~/Projects/python/selectolax/selectolax/node.pxi\u001b[0m in \u001b[0;36mselectolax.parser.Node.css_first\u001b[0;34m()\u001b[0m\n",
      "\u001b[0;31mValueError\u001b[0m: Expected 1 match, but found 2 matches"
     ]
    }
   ],
   "source": [
    "HTMLParser(html).css_first(\"p.p3\", default='not-found', strict=True)"
   ]
  },
  {
   "cell_type": "markdown",
   "metadata": {},
   "source": [
    "#### Print parent of p#stext"
   ]
  },
  {
   "cell_type": "code",
   "execution_count": 8,
   "metadata": {},
   "outputs": [
    {
     "name": "stdout",
     "output_type": "stream",
     "text": [
      "<div>\n",
      "        <p id=\"stext\">Lorem ipsum dolor sit amet, ea quo modus meliore platonem.</p>\n",
      "    </div>\n"
     ]
    }
   ],
   "source": [
    "print(HTMLParser(html).css_first('p#stext').parent.html)"
   ]
  },
  {
   "cell_type": "markdown",
   "metadata": {},
   "source": [
    "#### Nested selectors"
   ]
  },
  {
   "cell_type": "code",
   "execution_count": 9,
   "metadata": {},
   "outputs": [
    {
     "data": {
      "text/plain": [
       "'<p class=\"p3\" vid=\"\">Lorem ipsum</p>'"
      ]
     },
     "execution_count": 9,
     "metadata": {},
     "output_type": "execute_result"
    }
   ],
   "source": [
    "HTMLParser(html).css_first('div#text').css_first('p:nth-child(2)').html"
   ]
  },
  {
   "cell_type": "markdown",
   "metadata": {},
   "source": [
    "#### Iterate over all nodes on the current level"
   ]
  },
  {
   "cell_type": "code",
   "execution_count": 10,
   "metadata": {},
   "outputs": [
    {
     "name": "stdout",
     "output_type": "stream",
     "text": [
      "p <p class=\"p3\" style=\"display:none;\">Excepteur <i>sint</i> occaecat cupidatat non proident</p>\n",
      "p <p class=\"p3\" vid=\"\">Lorem ipsum</p>\n"
     ]
    }
   ],
   "source": [
    "for node in HTMLParser(html).css(\"div#text\"):\n",
    "    for cnode in node.iter():\n",
    "        print(cnode.tag, cnode.html)\n"
   ]
  },
  {
   "cell_type": "markdown",
   "metadata": {},
   "source": [
    "#### Tag removal "
   ]
  },
  {
   "cell_type": "code",
   "execution_count": 11,
   "metadata": {},
   "outputs": [
    {
     "name": "stdout",
     "output_type": "stream",
     "text": [
      "<body>\n",
      "    <span id=\"vspan\"></span>\n",
      "    <h1>Welcome to selectolax tutorial</h1>\n",
      "    <div id=\"text\">\n",
      "        \n",
      "        \n",
      "    </div>\n",
      "    <div>\n",
      "        \n",
      "    </div>\n",
      "\n",
      "</body>\n"
     ]
    }
   ],
   "source": [
    "html_parser = HTMLParser(html)\n",
    "for node in html_parser.tags('p'):\n",
    "    node.decompose()\n",
    "print(html_parser.body.html)"
   ]
  },
  {
   "cell_type": "markdown",
   "metadata": {},
   "source": [
    "#### Tag unwrapping"
   ]
  },
  {
   "cell_type": "code",
   "execution_count": 12,
   "metadata": {
    "scrolled": true
   },
   "outputs": [
    {
     "name": "stdout",
     "output_type": "stream",
     "text": [
      "\n",
      "<body>\n",
      "    <span id=\"vspan\"></span>\n",
      "    <h1>Welcome to selectolax tutorial</h1>\n",
      "    <div id=\"text\">\n",
      "        <p class='p3' style='display:none;'>Excepteur <i>sint</i> occaecat cupidatat non proident</p>\n",
      "        <p class='p3' vid>Lorem ipsum</p>\n",
      "    </div>\n",
      "    <div>\n",
      "        <p id='stext'>Lorem ipsum dolor sit amet, ea quo modus meliore platonem.</p>\n",
      "    </div>\n",
      "</body>\n",
      "\n"
     ]
    }
   ],
   "source": [
    "print(html)"
   ]
  },
  {
   "cell_type": "code",
   "execution_count": 13,
   "metadata": {},
   "outputs": [
    {
     "name": "stdout",
     "output_type": "stream",
     "text": [
      "<body>\n",
      "    <span id=\"vspan\"></span>\n",
      "    <h1>Welcome to selectolax tutorial</h1>\n",
      "    <div id=\"text\">\n",
      "        Excepteur sint occaecat cupidatat non proident\n",
      "        Lorem ipsum\n",
      "    </div>\n",
      "    <div>\n",
      "        Lorem ipsum dolor sit amet, ea quo modus meliore platonem.\n",
      "    </div>\n",
      "\n",
      "</body>\n"
     ]
    }
   ],
   "source": [
    "html_parser = HTMLParser(html)\n",
    "html_parser.unwrap_tags(['p', 'i'])\n",
    "print(html_parser.body.html)"
   ]
  },
  {
   "cell_type": "markdown",
   "metadata": {},
   "source": [
    "#### Attribute manipulation"
   ]
  },
  {
   "cell_type": "code",
   "execution_count": 14,
   "metadata": {
    "scrolled": true
   },
   "outputs": [
    {
     "name": "stdout",
     "output_type": "stream",
     "text": [
      "{'data': 'secrect data', 'id': 'new_id'}\n",
      "{'data': 'secrect data'}\n",
      "<div data=\"secrect data\">\n",
      "        <p class=\"p3\" style=\"display:none;\">Excepteur <i>sint</i> occaecat cupidatat non proident</p>\n",
      "        <p class=\"p3\" vid=\"\">Lorem ipsum</p>\n",
      "    </div>\n"
     ]
    }
   ],
   "source": [
    "html_parser = HTMLParser(html)\n",
    "node = html_parser.css_first('div#text')\n",
    "node.attrs['data'] = 'secrect data'\n",
    "node.attrs['id'] = 'new_id'\n",
    "print(node.attributes)\n",
    "del node.attrs['id']\n",
    "print(node.attributes)\n",
    "print(node.html)"
   ]
  },
  {
   "cell_type": "markdown",
   "metadata": {},
   "source": [
    "#### Tree traversal"
   ]
  },
  {
   "cell_type": "code",
   "execution_count": 15,
   "metadata": {},
   "outputs": [
    {
     "name": "stdout",
     "output_type": "stream",
     "text": [
      "html\n",
      "head\n",
      "body\n",
      "span\n",
      "h1\n",
      "div\n",
      "p\n",
      "i\n",
      "p\n",
      "div\n",
      "p\n"
     ]
    }
   ],
   "source": [
    "html_parser = HTMLParser(html)\n",
    "for node in html_parser.root.traverse():\n",
    "\n",
    "    if node.tag == '-text':\n",
    "        text = node.text(deep=True).strip()\n",
    "        if text:\n",
    "            print(text)\n",
    "    else:\n",
    "        print(node.tag)"
   ]
  },
  {
   "cell_type": "markdown",
   "metadata": {},
   "source": [
    "#### Encoding detection"
   ]
  },
  {
   "cell_type": "code",
   "execution_count": 16,
   "metadata": {},
   "outputs": [],
   "source": [
    "html = \"<div>Привет мир!</div>\"\n",
    "# Encoding detector works only with raw strings (bytes)\n",
    "html_bytes = html.encode('cp1251')"
   ]
  },
  {
   "cell_type": "code",
   "execution_count": 17,
   "metadata": {},
   "outputs": [
    {
     "data": {
      "text/plain": [
       "b'<div>\\xcf\\xf0\\xe8\\xe2\\xe5\\xf2 \\xec\\xe8\\xf0!</div>'"
      ]
     },
     "execution_count": 17,
     "metadata": {},
     "output_type": "execute_result"
    }
   ],
   "source": [
    "html_bytes"
   ]
  },
  {
   "cell_type": "code",
   "execution_count": 18,
   "metadata": {},
   "outputs": [
    {
     "data": {
      "text/plain": [
       "'WINDOWS-1251'"
      ]
     },
     "execution_count": 18,
     "metadata": {},
     "output_type": "execute_result"
    }
   ],
   "source": [
    "HTMLParser(html_bytes, detect_encoding=True).input_encoding"
   ]
  },
  {
   "cell_type": "markdown",
   "metadata": {},
   "source": [
    "#### Encoding detection using meta tags"
   ]
  },
  {
   "cell_type": "code",
   "execution_count": 19,
   "metadata": {},
   "outputs": [
    {
     "data": {
      "text/plain": [
       "'WINDOWS-1251'"
      ]
     },
     "execution_count": 19,
     "metadata": {},
     "output_type": "execute_result"
    }
   ],
   "source": [
    "html = '<head><meta charset=\"WINDOWS-1251\"></head>'.encode('cp1251')\n",
    "HTMLParser(html, detect_encoding=True, use_meta_tags=True).input_encoding"
   ]
  },
  {
   "cell_type": "code",
   "execution_count": 20,
   "metadata": {},
   "outputs": [
    {
     "data": {
      "text/plain": [
       "'WINDOWS-1251'"
      ]
     },
     "execution_count": 20,
     "metadata": {},
     "output_type": "execute_result"
    }
   ],
   "source": [
    "html_utf = '<head><meta charset=\"WINDOWS-1251\"></head>'.encode('utf-8')\n",
    "HTMLParser(html_utf, detect_encoding=True, use_meta_tags=True).input_encoding"
   ]
  },
  {
   "cell_type": "markdown",
   "metadata": {},
   "source": [
    "### Advanced selector\n",
    "\n",
    "Advanced selector mimics some of the features of XPath that are missing in CSS.\n",
    "\n",
    "The ``select`` methods accepts an optional initial CSS selector."
   ]
  },
  {
   "cell_type": "code",
   "execution_count": 21,
   "metadata": {},
   "outputs": [
    {
     "data": {
      "text/plain": [
       "['\\n var super_variable = 100;\\n']"
      ]
     },
     "execution_count": 21,
     "metadata": {},
     "output_type": "execute_result"
    }
   ],
   "source": [
    "html = \"\"\"\n",
    "<script>\n",
    " var super_variable = 100;\n",
    "</script>\n",
    "<script>\n",
    " console.log('debug');\n",
    "</script>\n",
    "\"\"\"\n",
    "tree = HTMLParser(html)\n",
    "\n",
    "[node.text() for node in tree.select('script').text_contains(\"super\").matches]\n"
   ]
  },
  {
   "cell_type": "markdown",
   "metadata": {},
   "source": [
    "### CSS chaining\n",
    "\n",
    "Chaining allows executing multiple CSS selectors against the current scope quickly. Each new call filters previous results."
   ]
  },
  {
   "cell_type": "code",
   "execution_count": 2,
   "metadata": {},
   "outputs": [
    {
     "name": "stdout",
     "output_type": "stream",
     "text": [
      "['<span class=\"red\"></span>', '<span class=\"red\"></span>']\n"
     ]
    }
   ],
   "source": [
    "html = \"\"\"\n",
    "<div id=\"container\">\n",
    "    <span class=\"red\"></span>\n",
    "    <span class=\"green\"></span>\n",
    "    <span class=\"red\"></span>\n",
    "    <span class=\"green\"></span>\n",
    "</div>\n",
    "\"\"\"\n",
    "tree = HTMLParser(html)\n",
    "\n",
    "print([node.html for node in tree.select('div').css(\"span\").css(\".red\").matches])\n"
   ]
  },
  {
   "cell_type": "markdown",
   "metadata": {},
   "source": [
    "### Inserting nodes"
   ]
  },
  {
   "cell_type": "code",
   "execution_count": null,
   "metadata": {},
   "outputs": [],
   "source": [
    "html = \"\"\"\n",
    "<div id=\"container\">\n",
    "    <span class=\"red\"></span>\n",
    "    <span class=\"green\"></span>\n",
    "    <span class=\"red\"></span>\n",
    "    <span class=\"green\"></span>\n",
    "</div>\n",
    "\"\"\"\n",
    "tree = HTMLParser(html)\n",
    "\n",
    "# Insert text\n",
    "dest_node = html_parser.css_first('.red')\n",
    "dest_node.insert_before(\"Hello\")\n",
    "\n",
    "# Insert nodes\n",
    "subtree = HTMLParser(\"<div>Hi</div>\")\n",
    "dest_node = html_parser.css_first('.red')\n",
    "dest_node.insert_before(subtree)\n",
    "\n",
    "# Insert before, after, or append inside\n",
    "subtree = HTMLParser(\"<div>Car</div>\")\n",
    "dest_node = html_parser.css_first('.green')\n",
    "dest_node.insert_before(subtree)\n",
    "dest_node.insert_after(subtree)\n",
    "dest_node.insert_child(subtree)"
   ]
  }
 ],
 "metadata": {
  "kernelspec": {
   "display_name": "Python 3 (ipykernel)",
   "language": "python",
   "name": "python3"
  },
  "language_info": {
   "codemirror_mode": {
    "name": "ipython",
    "version": 3
   },
   "file_extension": ".py",
   "mimetype": "text/x-python",
   "name": "python",
   "nbconvert_exporter": "python",
   "pygments_lexer": "ipython3",
   "version": "3.8.10"
  }
 },
 "nbformat": 4,
 "nbformat_minor": 2
}
